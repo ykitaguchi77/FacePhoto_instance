{
 "cells": [
  {
   "cell_type": "code",
   "execution_count": 1,
   "metadata": {},
   "outputs": [
    {
     "name": "stdout",
     "output_type": "stream",
     "text": [
      "CUDA is available! GPU: Quadro RTX 5000\n"
     ]
    }
   ],
   "source": [
    "import torch\n",
    "\n",
    "# CUDAが使えるかどうかを確認\n",
    "cuda_available = torch.cuda.is_available()\n",
    "\n",
    "if cuda_available:\n",
    "    print(f\"CUDA is available! GPU: {torch.cuda.get_device_name(0)}\")\n",
    "else:\n",
    "    print(\"CUDA is not available.\")\n",
    "     "
   ]
  },
  {
   "cell_type": "markdown",
   "metadata": {},
   "source": [
    "# **1枚画像**"
   ]
  },
  {
   "cell_type": "code",
   "execution_count": 1,
   "metadata": {},
   "outputs": [
    {
     "name": "stdout",
     "output_type": "stream",
     "text": [
      "modelが未定義のため、ロードを実行します。\n"
     ]
    },
    {
     "name": "stderr",
     "output_type": "stream",
     "text": [
      "c:\\Users\\ykita\\FacePhoto_instance\\instanceenv\\lib\\site-packages\\ultralytics\\nn\\tasks.py:634: FutureWarning: You are using `torch.load` with `weights_only=False` (the current default value), which uses the default pickle module implicitly. It is possible to construct malicious pickle data which will execute arbitrary code during unpickling (See https://github.com/pytorch/pytorch/blob/main/SECURITY.md#untrusted-models for more details). In a future release, the default value for `weights_only` will be flipped to `True`. This limits the functions that could be executed during unpickling. Arbitrary objects will no longer be allowed to be loaded via this mode unless they are explicitly allowlisted by the user via `torch.serialization.add_safe_globals`. We recommend you start setting `weights_only=True` for any use case where you don't have full control of the loaded file. Please open an issue on GitHub for any issues related to this experimental feature.\n",
      "  return torch.load(file, map_location=\"cpu\"), file  # load\n"
     ]
    },
    {
     "name": "stdout",
     "output_type": "stream",
     "text": [
      "\n",
      "image 1/1 C:\\Users\\ykita\\FacePhoto_instance\\201-295\\Image\\293-20200311-6-095803_287b73c1d0b04ca725de2651547efd9a530231320625fb361bef3708dc3df9ee.jpg: 640x640 1 Right_eye, 1 Left_eye, 771.0ms\n",
      "Speed: 9.3ms preprocess, 771.0ms inference, 0.5ms postprocess per image at shape (1, 3, 640, 640)\n",
      "0 0.268958 0.487141 0.170173 0.112953\n",
      "1 0.687053 0.477957 0.160687 0.102739\n"
     ]
    }
   ],
   "source": [
    "from ultralytics import RTDETR\n",
    "import wget\n",
    "import cv2\n",
    "import matplotlib.pyplot as plt\n",
    "\n",
    "# モデルが未定義ならロードする\n",
    "try:\n",
    "    model  # 変数modelが定義されているか確認\n",
    "except NameError:\n",
    "    print(\"modelが未定義のため、ロードを実行します。\")\n",
    "    model = RTDETR(r\"C:\\Users\\ykita\\FacePhoto_instance\\models\\135best_rtdetr.pt\")\n",
    "\n",
    "# 推論を実行: YOLOの推論\n",
    "image_path = r'C:\\Users\\ykita\\FacePhoto_instance\\201-295\\Image\\293-20200311-6-095803_287b73c1d0b04ca725de2651547efd9a530231320625fb361bef3708dc3df9ee.jpg'\n",
    "results = model(image_path, save=False)\n",
    "\n",
    "for r in results:\n",
    "    boxes = r.boxes  # YOLOv8の場合\n",
    "\n",
    "    # YOLO形式出力\n",
    "    for box in boxes:\n",
    "        cls_id = int(box.cls[0])  # クラスID\n",
    "        x_center, y_center, width, height = box.xywhn[0]\n",
    "\n",
    "        # YOLO形式: class x_center y_center width height\n",
    "        # 小数点以下6桁で出力したい場合\n",
    "        print(f\"{cls_id} {x_center:.6f} {y_center:.6f} {width:.6f} {height:.6f}\")\n",
    "\n",
    "    # 検出結果を画像に描画して表示\n",
    "    # plt.figure(figsize=(12, 8))\n",
    "    # plt.imshow(cv2.cvtColor(r.plot(), cv2.COLOR_BGR2RGB))\n",
    "    # plt.axis('off')\n",
    "    # plt.show()\n",
    "\n",
    "    # 結果の保存\n",
    "    #cv2.imwrite('result.jpg', r.plot())"
   ]
  },
  {
   "cell_type": "code",
   "execution_count": 2,
   "metadata": {},
   "outputs": [
    {
     "name": "stdout",
     "output_type": "stream",
     "text": [
      "\n",
      "image 1/1 C:\\Users\\ykita\\FacePhoto_instance\\201-295\\Image\\293-20200311-6-095803_287b73c1d0b04ca725de2651547efd9a530231320625fb361bef3708dc3df9ee.jpg: 640x640 1 Right_eye, 1 Left_eye, 879.9ms\n",
      "Speed: 7.0ms preprocess, 879.9ms inference, 0.5ms postprocess per image at shape (1, 3, 640, 640)\n",
      "YOLO形式の推論結果をテキストファイルに保存しました: C:\\Users\\ykita\\FacePhoto_instance\\result_yolo.txt\n"
     ]
    }
   ],
   "source": [
    "from ultralytics import RTDETR\n",
    "import wget\n",
    "import cv2\n",
    "import matplotlib.pyplot as plt\n",
    "import os\n",
    "\n",
    "# モデルが未定義ならロードする\n",
    "try:\n",
    "    model  # 変数modelが定義されているか確認\n",
    "except NameError:\n",
    "    print(\"modelが未定義のため、ロードを実行します。\")\n",
    "    model_path = r\"C:\\Users\\ykita\\FacePhoto_instance\\models\\135best_rtdetr.pt\"\n",
    "    model = RTDETR(model_path)\n",
    "\n",
    "# 推論を実行\n",
    "image_path = r'C:\\Users\\ykita\\FacePhoto_instance\\201-295\\Image\\293-20200311-6-095803_287b73c1d0b04ca725de2651547efd9a530231320625fb361bef3708dc3df9ee.jpg'\n",
    "results = model(image_path, save=False)\n",
    "\n",
    "# 保存先のテキストファイルパスを指定\n",
    "save_txt_path = r'C:\\Users\\ykita\\FacePhoto_instance\\result_yolo.txt'\n",
    "\n",
    "# YOLO形式の推論結果をテキストファイルに書き込み\n",
    "with open(save_txt_path, 'w') as f:\n",
    "    for r in results:\n",
    "        boxes = r.boxes  # YOLOv8系の出力\n",
    "        for box in boxes:\n",
    "            cls_id = int(box.cls[0])  \n",
    "            x_center, y_center, width, height = box.xywhn[0]\n",
    "            # YOLO形式: class x_center y_center width height （小数点以下6桁）\n",
    "            line = f\"{cls_id} {x_center:.6f} {y_center:.6f} {width:.6f} {height:.6f}\\n\"\n",
    "            f.write(line)\n",
    "\n",
    "print(f\"YOLO形式の推論結果をテキストファイルに保存しました: {save_txt_path}\")\n"
   ]
  },
  {
   "cell_type": "code",
   "execution_count": null,
   "metadata": {},
   "outputs": [],
   "source": []
  },
  {
   "cell_type": "markdown",
   "metadata": {},
   "source": [
    "# **複数画像**\n",
    "\n",
    "階層構造\n",
    "```\n",
    "archive.zip/\n",
    "   ├── data.yaml  # configuration file\n",
    "   ├── train.txt  # list of train subset image paths\n",
    "   │\n",
    "   ├── images/\n",
    "   │   ├── train/  # directory with images for train subset\n",
    "   │   │    ├── image1.jpg\n",
    "   │   │    ├── image2.jpg\n",
    "   │   │    ├── image3.jpg\n",
    "   │   │    └── ...\n",
    "   ├── labels/\n",
    "   │   ├── train/  # directory with annotations for train subset\n",
    "   │   │    ├── image1.txt\n",
    "   │   │    ├── image2.txt\n",
    "   │   │    ├── image3.txt\n",
    "   │   │    └── ...\n",
    "\n",
    "```\n",
    "\n",
    "***.txt (ラベル)\n",
    "```\n",
    "0 0.260745 0.535950 0.218015 0.030600\n",
    "1 0.760795 0.533850 0.213035 0.043800\n",
    "```\n",
    "\n",
    "daya.yaml\n",
    "```\n",
    "names:\n",
    "  0: Right_eye\n",
    "  1: Left_eye\n",
    "path: .\n",
    "train: train.txt\n",
    "```\n",
    "\n",
    "train.txt\n",
    "```\n",
    "data/images/train/***.jpg\n",
    "data/images/train/***.jpg\n",
    "...(pathの羅列)\n",
    "```\n",
    "※ラベルや画像と対応を合わせること\n",
    "\n"
   ]
  },
  {
   "cell_type": "code",
   "execution_count": 1,
   "metadata": {},
   "outputs": [
    {
     "name": "stdout",
     "output_type": "stream",
     "text": [
      "modelが未定義のため、ロードを実行します。\n"
     ]
    },
    {
     "name": "stderr",
     "output_type": "stream",
     "text": [
      "c:\\Users\\ykita\\FacePhoto_instance\\instanceenv\\lib\\site-packages\\ultralytics\\nn\\tasks.py:634: FutureWarning: You are using `torch.load` with `weights_only=False` (the current default value), which uses the default pickle module implicitly. It is possible to construct malicious pickle data which will execute arbitrary code during unpickling (See https://github.com/pytorch/pytorch/blob/main/SECURITY.md#untrusted-models for more details). In a future release, the default value for `weights_only` will be flipped to `True`. This limits the functions that could be executed during unpickling. Arbitrary objects will no longer be allowed to be loaded via this mode unless they are explicitly allowlisted by the user via `torch.serialization.add_safe_globals`. We recommend you start setting `weights_only=True` for any use case where you don't have full control of the loaded file. Please open an issue on GitHub for any issues related to this experimental feature.\n",
      "  return torch.load(file, map_location=\"cpu\"), file  # load\n",
      "推論中:   0%|          | 0/1390 [00:00<?, ?枚/s]"
     ]
    },
    {
     "name": "stdout",
     "output_type": "stream",
     "text": [
      "\n",
      "image 1/1 C:\\Users\\ykita\\FacePhoto_instance\\inference\\201-295\\image\\201-20071225-9-123502_024df9c564e854ac63c356338fae68d7e8ebd20fafde2856d07f854576d25bec.JPG: 640x640 1 Right_eye, 1 Left_eye, 776.0ms\n",
      "Speed: 8.0ms preprocess, 776.0ms inference, 2.0ms postprocess per image at shape (1, 3, 640, 640)\n"
     ]
    },
    {
     "name": "stderr",
     "output_type": "stream",
     "text": [
      "推論中:   0%|          | 1/1390 [00:03<1:10:05,  3.03s/枚]"
     ]
    },
    {
     "name": "stdout",
     "output_type": "stream",
     "text": [
      "\n",
      "image 1/1 C:\\Users\\ykita\\FacePhoto_instance\\inference\\201-295\\image\\201-20071225-9-123502_11ecdb1214665a16b19b0289b20c71d2c5a5a325f974312963bd044ddd10932f.JPG: 640x640 1 Right_eye, 1 Left_eye, 755.5ms\n",
      "Speed: 5.0ms preprocess, 755.5ms inference, 1.0ms postprocess per image at shape (1, 3, 640, 640)\n"
     ]
    },
    {
     "name": "stderr",
     "output_type": "stream",
     "text": [
      "推論中:   0%|          | 2/1390 [00:03<39:57,  1.73s/枚]  "
     ]
    },
    {
     "name": "stdout",
     "output_type": "stream",
     "text": [
      "\n",
      "image 1/1 C:\\Users\\ykita\\FacePhoto_instance\\inference\\201-295\\image\\201-20071225-9-123502_50a5a27bf14844c0973f0c274e935b2766ef37d438492d264e490a1e2dcaf11b.JPG: 640x640 1 Right_eye, 1 Left_eye, 797.6ms\n",
      "Speed: 6.0ms preprocess, 797.6ms inference, 1.0ms postprocess per image at shape (1, 3, 640, 640)\n"
     ]
    },
    {
     "name": "stderr",
     "output_type": "stream",
     "text": [
      "推論中:   0%|          | 3/1390 [00:04<30:46,  1.33s/枚]"
     ]
    },
    {
     "name": "stdout",
     "output_type": "stream",
     "text": [
      "\n",
      "image 1/1 C:\\Users\\ykita\\FacePhoto_instance\\inference\\201-295\\image\\201-20071225-9-123502_5775015e20cdb44f407ce9d908414403051f7b938d0f5ad519811a243418f9df.JPG: 640x640 1 Right_eye, 1 Left_eye, 871.0ms\n",
      "Speed: 5.0ms preprocess, 871.0ms inference, 0.0ms postprocess per image at shape (1, 3, 640, 640)\n"
     ]
    },
    {
     "name": "stderr",
     "output_type": "stream",
     "text": [
      "推論中:   0%|          | 4/1390 [00:05<27:05,  1.17s/枚]"
     ]
    },
    {
     "name": "stdout",
     "output_type": "stream",
     "text": [
      "\n",
      "image 1/1 C:\\Users\\ykita\\FacePhoto_instance\\inference\\201-295\\image\\201-20071225-9-123502_7a191e64370164f70f9a201e7392ea3630707c93f7cbc5b724279b7f1811136b.JPG: 640x640 1 Right_eye, 1 Left_eye, 707.0ms\n",
      "Speed: 5.0ms preprocess, 707.0ms inference, 0.0ms postprocess per image at shape (1, 3, 640, 640)\n"
     ]
    },
    {
     "name": "stderr",
     "output_type": "stream",
     "text": [
      "推論中:   0%|          | 5/1390 [00:06<23:44,  1.03s/枚]"
     ]
    },
    {
     "name": "stdout",
     "output_type": "stream",
     "text": [
      "\n",
      "image 1/1 C:\\Users\\ykita\\FacePhoto_instance\\inference\\201-295\\image\\201-20071225-9-123502_9f5db5050c8e588fd55bb35d4b116533f3c157f6eeb9369a51e3b004ffc96f00.JPG: 640x640 2 Left_eyes, 713.0ms\n",
      "Speed: 6.0ms preprocess, 713.0ms inference, 1.0ms postprocess per image at shape (1, 3, 640, 640)\n"
     ]
    },
    {
     "name": "stderr",
     "output_type": "stream",
     "text": [
      "推論中:   0%|          | 6/1390 [00:07<21:46,  1.06枚/s]"
     ]
    },
    {
     "name": "stdout",
     "output_type": "stream",
     "text": [
      "\n",
      "image 1/1 C:\\Users\\ykita\\FacePhoto_instance\\inference\\201-295\\image\\201-20071225-9-123502_aad77ff1d9e3857a248a9e77b19c567776cd17c1605eb41bde3391ff46733fbe.JPG: 640x640 1 Right_eye, 1 Left_eye, 699.5ms\n",
      "Speed: 5.0ms preprocess, 699.5ms inference, 0.0ms postprocess per image at shape (1, 3, 640, 640)\n"
     ]
    },
    {
     "name": "stderr",
     "output_type": "stream",
     "text": [
      "推論中:   1%|          | 7/1390 [00:07<20:25,  1.13枚/s]"
     ]
    },
    {
     "name": "stdout",
     "output_type": "stream",
     "text": [
      "\n",
      "image 1/1 C:\\Users\\ykita\\FacePhoto_instance\\inference\\201-295\\image\\201-20071225-9-123502_ae7df7fa888a812f77940366dc0ee3ca7960eedd8e09f05e7e7db1a1a8edbf87.JPG: 640x640 1 Right_eye, 1 Left_eye, 700.0ms\n",
      "Speed: 5.0ms preprocess, 700.0ms inference, 1.0ms postprocess per image at shape (1, 3, 640, 640)\n"
     ]
    },
    {
     "name": "stderr",
     "output_type": "stream",
     "text": [
      "推論中:   1%|          | 8/1390 [00:08<19:27,  1.18枚/s]"
     ]
    },
    {
     "name": "stdout",
     "output_type": "stream",
     "text": [
      "\n",
      "image 1/1 C:\\Users\\ykita\\FacePhoto_instance\\inference\\201-295\\image\\201-20071225-9-123502_afcc6f5ceeb58e835c5c8b0eaad7e2dc831d84416bdb548db95b9df00761b4c6.JPG: 640x640 1 Right_eye, 1 Left_eye, 781.6ms\n",
      "Speed: 5.0ms preprocess, 781.6ms inference, 0.0ms postprocess per image at shape (1, 3, 640, 640)\n"
     ]
    },
    {
     "name": "stderr",
     "output_type": "stream",
     "text": [
      "推論中:   1%|          | 9/1390 [00:09<19:28,  1.18枚/s]"
     ]
    },
    {
     "name": "stdout",
     "output_type": "stream",
     "text": [
      "\n",
      "image 1/1 C:\\Users\\ykita\\FacePhoto_instance\\inference\\201-295\\image\\201-20080129-9-113451_cd22e2f6687375e46aaa926d7c2df4ec20e829d4728ba0bbbb81b62e28e3145c.JPG: 640x640 1 Right_eye, 1 Left_eye, 774.9ms\n",
      "Speed: 5.0ms preprocess, 774.9ms inference, 1.0ms postprocess per image at shape (1, 3, 640, 640)\n"
     ]
    },
    {
     "name": "stderr",
     "output_type": "stream",
     "text": [
      "推論中:   1%|          | 10/1390 [00:10<19:27,  1.18枚/s]"
     ]
    },
    {
     "name": "stdout",
     "output_type": "stream",
     "text": [
      "\n",
      "image 1/1 C:\\Users\\ykita\\FacePhoto_instance\\inference\\201-295\\image\\202-20110908-67-000000_3474eb6af187c2eb6e67a075c6ca7d8582e3053d9aadd0bcffa191d07cd14e8e.jpg: 640x640 2 Right_eyes, 1242.6ms\n",
      "Speed: 9.0ms preprocess, 1242.6ms inference, 1.0ms postprocess per image at shape (1, 3, 640, 640)\n"
     ]
    },
    {
     "name": "stderr",
     "output_type": "stream",
     "text": [
      "推論中:   1%|          | 11/1390 [00:11<22:36,  1.02枚/s]"
     ]
    },
    {
     "name": "stdout",
     "output_type": "stream",
     "text": [
      "\n",
      "image 1/1 C:\\Users\\ykita\\FacePhoto_instance\\inference\\201-295\\image\\202-20110916-67-000000_607d107cfc96d9137aa5fdf3960a8046d746e90323bf22c97d24b73ca24e76d6.jpg: 640x640 1 Right_eye, 1 Left_eye, 841.6ms\n",
      "Speed: 9.0ms preprocess, 841.6ms inference, 1.0ms postprocess per image at shape (1, 3, 640, 640)\n"
     ]
    },
    {
     "name": "stderr",
     "output_type": "stream",
     "text": [
      "推論中:   1%|          | 12/1390 [00:12<23:07,  1.01s/枚]"
     ]
    },
    {
     "name": "stdout",
     "output_type": "stream",
     "text": [
      "\n",
      "image 1/1 C:\\Users\\ykita\\FacePhoto_instance\\inference\\201-295\\image\\203-20181114-1-104445_3ac43ba46182948796e96015d2ba3afb3a5651b05a6ab7d571079ebcd4ad370b.jpg: 640x640 1 Right_eye, 1 Left_eye, 785.6ms\n",
      "Speed: 7.0ms preprocess, 785.6ms inference, 0.0ms postprocess per image at shape (1, 3, 640, 640)\n"
     ]
    },
    {
     "name": "stderr",
     "output_type": "stream",
     "text": [
      "推論中:   1%|          | 13/1390 [00:13<22:53,  1.00枚/s]"
     ]
    },
    {
     "name": "stdout",
     "output_type": "stream",
     "text": [
      "\n",
      "image 1/1 C:\\Users\\ykita\\FacePhoto_instance\\inference\\201-295\\image\\204-20120823-59-095005_bb9680608ade3628a781b349770762db12e3d707e110fb640e4d4e9b182e8f5e.jpg: 640x640 1 Right_eye, 1 Left_eye, 760.6ms\n",
      "Speed: 6.0ms preprocess, 760.6ms inference, 1.0ms postprocess per image at shape (1, 3, 640, 640)\n"
     ]
    },
    {
     "name": "stderr",
     "output_type": "stream",
     "text": [
      "推論中:   1%|          | 14/1390 [00:14<22:46,  1.01枚/s]"
     ]
    },
    {
     "name": "stdout",
     "output_type": "stream",
     "text": [
      "\n",
      "image 1/1 C:\\Users\\ykita\\FacePhoto_instance\\inference\\201-295\\image\\204-20120920-59-151652_1445850d9e02c3c7c3578477d71043e854e041c9f676b1ee94c45ac934d3d23c.jpg: 640x640 1 Right_eye, 1 Left_eye, 963.6ms\n",
      "Speed: 6.0ms preprocess, 963.6ms inference, 0.0ms postprocess per image at shape (1, 3, 640, 640)\n"
     ]
    },
    {
     "name": "stderr",
     "output_type": "stream",
     "text": [
      "推論中:   1%|          | 15/1390 [00:15<23:58,  1.05s/枚]"
     ]
    },
    {
     "name": "stdout",
     "output_type": "stream",
     "text": [
      "\n",
      "image 1/1 C:\\Users\\ykita\\FacePhoto_instance\\inference\\201-295\\image\\204-20120920-59-151652_1ede8a659af9b5c4cbf930f0ac282d86f088781ed471d444fe8e995c7a71d721.jpg: 640x640 2 Left_eyes, 929.0ms\n",
      "Speed: 7.0ms preprocess, 929.0ms inference, 0.0ms postprocess per image at shape (1, 3, 640, 640)\n"
     ]
    },
    {
     "name": "stderr",
     "output_type": "stream",
     "text": [
      "推論中:   1%|          | 16/1390 [00:16<24:22,  1.06s/枚]"
     ]
    },
    {
     "name": "stdout",
     "output_type": "stream",
     "text": [
      "\n",
      "image 1/1 C:\\Users\\ykita\\FacePhoto_instance\\inference\\201-295\\image\\204-20120920-59-151652_429511617d3fbe993694a39a01d0e090fbb22290467d4d2e2389076111a9b478.jpg: 640x640 1 Right_eye, 1 Left_eye, 829.6ms\n",
      "Speed: 10.0ms preprocess, 829.6ms inference, 1.0ms postprocess per image at shape (1, 3, 640, 640)\n"
     ]
    },
    {
     "name": "stderr",
     "output_type": "stream",
     "text": [
      "推論中:   1%|          | 17/1390 [00:18<24:16,  1.06s/枚]"
     ]
    },
    {
     "name": "stdout",
     "output_type": "stream",
     "text": [
      "\n",
      "image 1/1 C:\\Users\\ykita\\FacePhoto_instance\\inference\\201-295\\image\\204-20120920-59-151652_5110b4f5b339b0463da88b97be1cc28aae981c4d2ae17007035899d1fc9fac4a.jpg: 640x640 1 Right_eye, 1 Left_eye, 782.6ms\n",
      "Speed: 5.0ms preprocess, 782.6ms inference, 1.0ms postprocess per image at shape (1, 3, 640, 640)\n"
     ]
    },
    {
     "name": "stderr",
     "output_type": "stream",
     "text": [
      "推論中:   1%|▏         | 18/1390 [00:19<23:48,  1.04s/枚]"
     ]
    },
    {
     "name": "stdout",
     "output_type": "stream",
     "text": [
      "\n",
      "image 1/1 C:\\Users\\ykita\\FacePhoto_instance\\inference\\201-295\\image\\204-20120920-59-151652_5417d937e94e2aa1c252d9a4f9fe38604d6551499f3ea0e60aaddb80cb001082.jpg: 640x640 1 Right_eye, 1 Left_eye, 763.5ms\n",
      "Speed: 5.0ms preprocess, 763.5ms inference, 1.0ms postprocess per image at shape (1, 3, 640, 640)\n"
     ]
    },
    {
     "name": "stderr",
     "output_type": "stream",
     "text": [
      "推論中:   1%|▏         | 19/1390 [00:20<23:19,  1.02s/枚]"
     ]
    },
    {
     "name": "stdout",
     "output_type": "stream",
     "text": [
      "\n",
      "image 1/1 C:\\Users\\ykita\\FacePhoto_instance\\inference\\201-295\\image\\204-20120920-59-151652_556a54779616eae2bd980c59cde8c3c3fdcdd5ce25b9ae6b7652d77ee00bfe64.jpg: 640x640 1 Right_eye, 1 Left_eye, 762.7ms\n",
      "Speed: 6.0ms preprocess, 762.7ms inference, 1.0ms postprocess per image at shape (1, 3, 640, 640)\n"
     ]
    },
    {
     "name": "stderr",
     "output_type": "stream",
     "text": [
      "推論中:   1%|▏         | 20/1390 [00:20<22:53,  1.00s/枚]"
     ]
    },
    {
     "name": "stdout",
     "output_type": "stream",
     "text": [
      "\n",
      "image 1/1 C:\\Users\\ykita\\FacePhoto_instance\\inference\\201-295\\image\\204-20120920-59-151652_7436be9ffad3f6a18d9da24376a47fd0755336c42b0ac3f88cab90be9d568e6b.jpg: 640x640 1 Right_eye, 1 Left_eye, 759.4ms\n",
      "Speed: 7.0ms preprocess, 759.4ms inference, 1.0ms postprocess per image at shape (1, 3, 640, 640)\n"
     ]
    },
    {
     "name": "stderr",
     "output_type": "stream",
     "text": [
      "推論中:   2%|▏         | 21/1390 [00:21<22:40,  1.01枚/s]"
     ]
    },
    {
     "name": "stdout",
     "output_type": "stream",
     "text": [
      "\n",
      "image 1/1 C:\\Users\\ykita\\FacePhoto_instance\\inference\\201-295\\image\\204-20120920-59-151652_9467370d31b329335821e21ae141bf56ab560f0744c3ab18a593b5767906dc12.jpg: 640x640 2 Right_eyes, 1 Left_eye, 942.6ms\n",
      "Speed: 10.0ms preprocess, 942.6ms inference, 1.0ms postprocess per image at shape (1, 3, 640, 640)\n"
     ]
    },
    {
     "name": "stderr",
     "output_type": "stream",
     "text": [
      "推論中:   2%|▏         | 22/1390 [00:23<23:57,  1.05s/枚]"
     ]
    },
    {
     "name": "stdout",
     "output_type": "stream",
     "text": [
      "\n",
      "image 1/1 C:\\Users\\ykita\\FacePhoto_instance\\inference\\201-295\\image\\204-20120920-59-151652_b2faa4af78651e56eede786e0565a7f105a7e8406c42997cf5d3c45cbe6f5773.jpg: 640x640 1 Right_eye, 1 Left_eye, 734.4ms\n",
      "Speed: 7.0ms preprocess, 734.4ms inference, 0.0ms postprocess per image at shape (1, 3, 640, 640)\n"
     ]
    },
    {
     "name": "stderr",
     "output_type": "stream",
     "text": [
      "推論中:   2%|▏         | 23/1390 [00:24<23:18,  1.02s/枚]"
     ]
    },
    {
     "name": "stdout",
     "output_type": "stream",
     "text": [
      "\n",
      "image 1/1 C:\\Users\\ykita\\FacePhoto_instance\\inference\\201-295\\image\\204-20120920-59-151652_e1ed45c495418b43857bac1bf6d3c731676534823cdd31ecc22aa18932c59669.jpg: 640x640 1 Right_eye, 1 Left_eye, 718.6ms\n",
      "Speed: 5.0ms preprocess, 718.6ms inference, 0.0ms postprocess per image at shape (1, 3, 640, 640)\n"
     ]
    },
    {
     "name": "stderr",
     "output_type": "stream",
     "text": [
      "推論中:   2%|▏         | 24/1390 [00:24<22:26,  1.01枚/s]"
     ]
    },
    {
     "name": "stdout",
     "output_type": "stream",
     "text": [
      "\n",
      "image 1/1 C:\\Users\\ykita\\FacePhoto_instance\\inference\\201-295\\image\\204-20121018-59-113652_ad00884a9ea863eb2ad97b1c81ba5fb7e17956f23e46d761c4e990c731258dae.jpg: 640x640 1 Right_eye, 1 Left_eye, 721.8ms\n",
      "Speed: 7.0ms preprocess, 721.8ms inference, 0.0ms postprocess per image at shape (1, 3, 640, 640)\n"
     ]
    },
    {
     "name": "stderr",
     "output_type": "stream",
     "text": [
      "推論中:   2%|▏         | 25/1390 [00:25<21:54,  1.04枚/s]"
     ]
    },
    {
     "name": "stdout",
     "output_type": "stream",
     "text": [
      "\n",
      "image 1/1 C:\\Users\\ykita\\FacePhoto_instance\\inference\\201-295\\image\\205-20130717-0-102938_98fc798e352707c2183d114c754ebb9001ccd45d06057484b41d1839fd99ad77.jpg: 640x640 1 Right_eye, 1 Left_eye, 767.0ms\n",
      "Speed: 7.0ms preprocess, 767.0ms inference, 0.0ms postprocess per image at shape (1, 3, 640, 640)\n"
     ]
    },
    {
     "name": "stderr",
     "output_type": "stream",
     "text": [
      "推論中:   2%|▏         | 26/1390 [00:26<21:04,  1.08枚/s]"
     ]
    },
    {
     "name": "stdout",
     "output_type": "stream",
     "text": [
      "\n",
      "image 1/1 C:\\Users\\ykita\\FacePhoto_instance\\inference\\201-295\\image\\206-20170222-41-104248_6a8bf220ed15b183685305d20bdb79f4a12a8516daaf9210df3e784052ae56f6.jpg: 640x640 2 Left_eyes, 780.0ms\n",
      "Speed: 6.0ms preprocess, 780.0ms inference, 0.0ms postprocess per image at shape (1, 3, 640, 640)\n"
     ]
    },
    {
     "name": "stderr",
     "output_type": "stream",
     "text": [
      "推論中:   2%|▏         | 27/1390 [00:27<20:47,  1.09枚/s]"
     ]
    },
    {
     "name": "stdout",
     "output_type": "stream",
     "text": [
      "\n",
      "image 1/1 C:\\Users\\ykita\\FacePhoto_instance\\inference\\201-295\\image\\206-20170222-41-104248_f5eeeff6e0503e1a62962242c1cb202b2fbb5d007d6169ec205fe17e5a1430f6.jpg: 640x640 1 Right_eye, 1 Left_eye, 799.6ms\n",
      "Speed: 6.0ms preprocess, 799.6ms inference, 1.0ms postprocess per image at shape (1, 3, 640, 640)\n"
     ]
    },
    {
     "name": "stderr",
     "output_type": "stream",
     "text": [
      "推論中:   2%|▏         | 28/1390 [00:28<20:42,  1.10枚/s]"
     ]
    },
    {
     "name": "stdout",
     "output_type": "stream",
     "text": [
      "\n",
      "image 1/1 C:\\Users\\ykita\\FacePhoto_instance\\inference\\201-295\\image\\206-20170308-41-110317_05f18822d85e77bc85a2a97a97fd3d2d711b62db3c09665de13579512c7765de.jpg: 640x640 1 Right_eye, 1 Left_eye, 722.0ms\n",
      "Speed: 5.0ms preprocess, 722.0ms inference, 0.0ms postprocess per image at shape (1, 3, 640, 640)\n"
     ]
    },
    {
     "name": "stderr",
     "output_type": "stream",
     "text": [
      "推論中:   2%|▏         | 29/1390 [00:29<19:50,  1.14枚/s]"
     ]
    },
    {
     "name": "stdout",
     "output_type": "stream",
     "text": [
      "\n",
      "image 1/1 C:\\Users\\ykita\\FacePhoto_instance\\inference\\201-295\\image\\206-20170308-41-110317_082eb4a3e1e81bdf4b5c2b28d583b9d78d4af6c27b8008d1cfc65e08f1e8d658.jpg: 640x640 1 Right_eye, 1 Left_eye, 667.7ms\n",
      "Speed: 8.0ms preprocess, 667.7ms inference, 1.0ms postprocess per image at shape (1, 3, 640, 640)\n"
     ]
    },
    {
     "name": "stderr",
     "output_type": "stream",
     "text": [
      "推論中:   2%|▏         | 30/1390 [00:30<18:55,  1.20枚/s]"
     ]
    },
    {
     "name": "stdout",
     "output_type": "stream",
     "text": [
      "\n",
      "image 1/1 C:\\Users\\ykita\\FacePhoto_instance\\inference\\201-295\\image\\206-20170308-41-110317_6ce4f9c66f653c75725493c81613d0792221048dec1282ce4ffd526194b74595.jpg: 640x640 1 Right_eye, 2 Left_eyes, 694.0ms\n",
      "Speed: 6.0ms preprocess, 694.0ms inference, 0.0ms postprocess per image at shape (1, 3, 640, 640)\n"
     ]
    },
    {
     "name": "stderr",
     "output_type": "stream",
     "text": [
      "推論中:   2%|▏         | 31/1390 [00:30<18:25,  1.23枚/s]"
     ]
    },
    {
     "name": "stdout",
     "output_type": "stream",
     "text": [
      "\n",
      "image 1/1 C:\\Users\\ykita\\FacePhoto_instance\\inference\\201-295\\image\\206-20170308-41-141035_b6b81256f005dca6949a34f725cbe39ad5465671f32533962e200ab02e2b595e.jpg: 640x640 1 Right_eye, 1 Left_eye, 685.0ms\n",
      "Speed: 7.0ms preprocess, 685.0ms inference, 1.0ms postprocess per image at shape (1, 3, 640, 640)\n"
     ]
    },
    {
     "name": "stderr",
     "output_type": "stream",
     "text": [
      "推論中:   2%|▏         | 32/1390 [00:31<17:59,  1.26枚/s]"
     ]
    },
    {
     "name": "stdout",
     "output_type": "stream",
     "text": [
      "\n",
      "image 1/1 C:\\Users\\ykita\\FacePhoto_instance\\inference\\201-295\\image\\206-20170308-41-141035_c18ab23f5650ebb577754a93a46f5a14867b2622d22dca3d851a40ced8d064e8.jpg: 640x640 1 Right_eye, 1 Left_eye, 684.0ms\n",
      "Speed: 7.0ms preprocess, 684.0ms inference, 1.0ms postprocess per image at shape (1, 3, 640, 640)\n"
     ]
    },
    {
     "name": "stderr",
     "output_type": "stream",
     "text": [
      "推論中:   2%|▏         | 33/1390 [00:32<17:41,  1.28枚/s]"
     ]
    },
    {
     "name": "stdout",
     "output_type": "stream",
     "text": [
      "\n",
      "image 1/1 C:\\Users\\ykita\\FacePhoto_instance\\inference\\201-295\\image\\206-20170719-41-131937_186fece0b4bf9c8d951cc7876b38998d46f5b80e3ee5d27601579efc845028e3.jpg: 640x640 1 Right_eye, 1 Left_eye, 726.6ms\n",
      "Speed: 6.0ms preprocess, 726.6ms inference, 1.0ms postprocess per image at shape (1, 3, 640, 640)\n"
     ]
    },
    {
     "name": "stderr",
     "output_type": "stream",
     "text": [
      "推論中:   2%|▏         | 34/1390 [00:33<17:46,  1.27枚/s]"
     ]
    },
    {
     "name": "stdout",
     "output_type": "stream",
     "text": [
      "\n",
      "image 1/1 C:\\Users\\ykita\\FacePhoto_instance\\inference\\201-295\\image\\207-20120726-71-113947_63d7786bf09e9fd187213afd8f4a9bf4f6d2c34debc63f34a787364d056d76c1.jpg: 640x640 1 Right_eye, 1 Left_eye, 1187.7ms\n",
      "Speed: 7.0ms preprocess, 1187.7ms inference, 0.0ms postprocess per image at shape (1, 3, 640, 640)\n"
     ]
    },
    {
     "name": "stderr",
     "output_type": "stream",
     "text": [
      "推論中:   3%|▎         | 35/1390 [00:34<21:44,  1.04枚/s]"
     ]
    },
    {
     "name": "stdout",
     "output_type": "stream",
     "text": [
      "\n",
      "image 1/1 C:\\Users\\ykita\\FacePhoto_instance\\inference\\201-295\\image\\207-20121122-71-114614_124b58d81e3e3affd461e53ddc3d2dce08e62b1b374d6f56d5f4996186e0d159.jpg: 640x640 1 Right_eye, 2 Left_eyes, 1336.5ms\n",
      "Speed: 12.0ms preprocess, 1336.5ms inference, 0.0ms postprocess per image at shape (1, 3, 640, 640)\n"
     ]
    },
    {
     "name": "stderr",
     "output_type": "stream",
     "text": [
      "推論中:   3%|▎         | 36/1390 [00:36<25:56,  1.15s/枚]"
     ]
    },
    {
     "name": "stdout",
     "output_type": "stream",
     "text": [
      "\n",
      "image 1/1 C:\\Users\\ykita\\FacePhoto_instance\\inference\\201-295\\image\\208-20170628-76-110017_46b2222712656e5917d5a8398b1566498344648a8a9cd939e34730506aa2d177.jpg: 640x640 1 Right_eye, 1 Left_eye, 1145.1ms\n",
      "Speed: 16.0ms preprocess, 1145.1ms inference, 0.0ms postprocess per image at shape (1, 3, 640, 640)\n"
     ]
    },
    {
     "name": "stderr",
     "output_type": "stream",
     "text": [
      "推論中:   3%|▎         | 37/1390 [00:37<26:36,  1.18s/枚]"
     ]
    },
    {
     "name": "stdout",
     "output_type": "stream",
     "text": [
      "\n",
      "image 1/1 C:\\Users\\ykita\\FacePhoto_instance\\inference\\201-295\\image\\208-20170628-76-110017_49f1b92ac1f275f96287a2f1064a813aa7823e7e4f3a2c1cdef6697e30ba82e2.jpg: 640x640 1 Right_eye, 1 Left_eye, 865.6ms\n",
      "Speed: 9.0ms preprocess, 865.6ms inference, 1.0ms postprocess per image at shape (1, 3, 640, 640)\n"
     ]
    },
    {
     "name": "stderr",
     "output_type": "stream",
     "text": [
      "推論中:   3%|▎         | 38/1390 [00:38<24:57,  1.11s/枚]"
     ]
    },
    {
     "name": "stdout",
     "output_type": "stream",
     "text": [
      "\n",
      "image 1/1 C:\\Users\\ykita\\FacePhoto_instance\\inference\\201-295\\image\\208-20170628-76-110017_5b15e4fee069de9ae8ef831012d9d38d10beb7b2305e4fae34fb7e3e9f33c0a2.jpg: 640x640 1 Right_eye, 1 Left_eye, 802.0ms\n",
      "Speed: 8.0ms preprocess, 802.0ms inference, 1.0ms postprocess per image at shape (1, 3, 640, 640)\n"
     ]
    },
    {
     "name": "stderr",
     "output_type": "stream",
     "text": [
      "推論中:   3%|▎         | 39/1390 [00:39<23:23,  1.04s/枚]"
     ]
    },
    {
     "name": "stdout",
     "output_type": "stream",
     "text": [
      "\n",
      "image 1/1 C:\\Users\\ykita\\FacePhoto_instance\\inference\\201-295\\image\\208-20170628-76-121535_2a28f835ba096a7cdab954b9c2911ad4a457c3689005d971692304d86687d241.jpg: 640x640 2 Left_eyes, 1085.7ms\n",
      "Speed: 7.0ms preprocess, 1085.7ms inference, 2.0ms postprocess per image at shape (1, 3, 640, 640)\n"
     ]
    },
    {
     "name": "stderr",
     "output_type": "stream",
     "text": [
      "推論中:   3%|▎         | 40/1390 [00:40<24:15,  1.08s/枚]"
     ]
    },
    {
     "name": "stdout",
     "output_type": "stream",
     "text": [
      "\n",
      "image 1/1 C:\\Users\\ykita\\FacePhoto_instance\\inference\\201-295\\image\\208-20170628-76-121535_6ba19f9ecb4788f8994f97b116304d7cb286ae7702fa74a5277009e92b48821b.jpg: 640x640 1 Right_eye, 1 Left_eye, 879.5ms\n",
      "Speed: 13.0ms preprocess, 879.5ms inference, 1.0ms postprocess per image at shape (1, 3, 640, 640)\n"
     ]
    },
    {
     "name": "stderr",
     "output_type": "stream",
     "text": [
      "推論中:   3%|▎         | 41/1390 [00:41<23:27,  1.04s/枚]"
     ]
    },
    {
     "name": "stdout",
     "output_type": "stream",
     "text": [
      "\n",
      "image 1/1 C:\\Users\\ykita\\FacePhoto_instance\\inference\\201-295\\image\\208-20170628-76-121535_766637013b819c52f519491b971ef1db67e7e139aec23540ddad7333ba2f9930.jpg: 640x640 1 Right_eye, 1 Left_eye, 827.2ms\n",
      "Speed: 9.0ms preprocess, 827.2ms inference, 1.0ms postprocess per image at shape (1, 3, 640, 640)\n"
     ]
    },
    {
     "name": "stderr",
     "output_type": "stream",
     "text": [
      "推論中:   3%|▎         | 42/1390 [00:42<22:32,  1.00s/枚]"
     ]
    },
    {
     "name": "stdout",
     "output_type": "stream",
     "text": [
      "\n",
      "image 1/1 C:\\Users\\ykita\\FacePhoto_instance\\inference\\201-295\\image\\208-20170628-76-121535_88aacbd638c82ae84b3324a89ecf9f68dc2a255dead5cc16384324c299858ae3.jpg: 640x640 1 Right_eye, 2 Left_eyes, 969.0ms\n",
      "Speed: 8.0ms preprocess, 969.0ms inference, 0.5ms postprocess per image at shape (1, 3, 640, 640)\n"
     ]
    },
    {
     "name": "stderr",
     "output_type": "stream",
     "text": [
      "推論中:   3%|▎         | 43/1390 [00:43<22:49,  1.02s/枚]"
     ]
    },
    {
     "name": "stdout",
     "output_type": "stream",
     "text": [
      "\n",
      "image 1/1 C:\\Users\\ykita\\FacePhoto_instance\\inference\\201-295\\image\\208-20170628-76-121535_c15ff66468a71becff74f0a812297e26ac4c26468bc097dfd3ee8b5282f5ae1f.jpg: 640x640 1 Right_eye, 1 Left_eye, 811.0ms\n",
      "Speed: 10.0ms preprocess, 811.0ms inference, 1.0ms postprocess per image at shape (1, 3, 640, 640)\n"
     ]
    },
    {
     "name": "stderr",
     "output_type": "stream",
     "text": [
      "推論中:   3%|▎         | 44/1390 [00:44<21:58,  1.02枚/s]"
     ]
    },
    {
     "name": "stdout",
     "output_type": "stream",
     "text": [
      "\n",
      "image 1/1 C:\\Users\\ykita\\FacePhoto_instance\\inference\\201-295\\image\\208-20170628-76-121535_d0f1a14c6883d8ac2106959d10da31c83c374b6722aefeb152783331b1eba211.jpg: 640x640 2 Left_eyes, 787.6ms\n",
      "Speed: 6.0ms preprocess, 787.6ms inference, 0.0ms postprocess per image at shape (1, 3, 640, 640)\n"
     ]
    },
    {
     "name": "stderr",
     "output_type": "stream",
     "text": [
      "推論中:   3%|▎         | 45/1390 [00:44<21:07,  1.06枚/s]"
     ]
    },
    {
     "name": "stdout",
     "output_type": "stream",
     "text": [
      "\n",
      "image 1/1 C:\\Users\\ykita\\FacePhoto_instance\\inference\\201-295\\image\\208-20170628-76-121535_e5eff653afe42c531d11a26ba17533cf95c6212c4feaa7e7bb0816deb0e478c2.jpg: 640x640 1 Right_eye, 1 Left_eye, 788.6ms\n",
      "Speed: 7.0ms preprocess, 788.6ms inference, 1.0ms postprocess per image at shape (1, 3, 640, 640)\n"
     ]
    },
    {
     "name": "stderr",
     "output_type": "stream",
     "text": [
      "推論中:   3%|▎         | 46/1390 [00:45<20:35,  1.09枚/s]"
     ]
    },
    {
     "name": "stdout",
     "output_type": "stream",
     "text": [
      "\n",
      "image 1/1 C:\\Users\\ykita\\FacePhoto_instance\\inference\\201-295\\image\\208-20170628-76-121535_ec0b571343a4943fb5ab7eb05153591b6dffa2d1e82ffe3c2935bf946a3f0043.jpg: 640x640 1 Right_eye, 2 Left_eyes, 732.8ms\n",
      "Speed: 7.0ms preprocess, 732.8ms inference, 1.0ms postprocess per image at shape (1, 3, 640, 640)\n"
     ]
    },
    {
     "name": "stderr",
     "output_type": "stream",
     "text": [
      "推論中:   3%|▎         | 47/1390 [00:46<19:50,  1.13枚/s]"
     ]
    },
    {
     "name": "stdout",
     "output_type": "stream",
     "text": [
      "\n",
      "image 1/1 C:\\Users\\ykita\\FacePhoto_instance\\inference\\201-295\\image\\208-20170628-76-121535_fa4302b9409ab6b2d07bfb2040b4e4c597d9ad0317c40d90c3689fd98a359bfc.jpg: 640x640 1 Right_eye, 1 Left_eye, 794.6ms\n",
      "Speed: 6.0ms preprocess, 794.6ms inference, 0.0ms postprocess per image at shape (1, 3, 640, 640)\n"
     ]
    },
    {
     "name": "stderr",
     "output_type": "stream",
     "text": [
      "推論中:   3%|▎         | 48/1390 [00:47<19:38,  1.14枚/s]"
     ]
    },
    {
     "name": "stdout",
     "output_type": "stream",
     "text": [
      "\n",
      "image 1/1 C:\\Users\\ykita\\FacePhoto_instance\\inference\\201-295\\image\\208-20170809-76-161454_014c345ec75e08fd5e3af8041a745338ebe9d53e06523f33948c9eb1ff7e0e92.jpg: 640x640 1 Right_eye, 1 Left_eye, 742.0ms\n",
      "Speed: 8.0ms preprocess, 742.0ms inference, 0.0ms postprocess per image at shape (1, 3, 640, 640)\n"
     ]
    },
    {
     "name": "stderr",
     "output_type": "stream",
     "text": [
      "推論中:   4%|▎         | 49/1390 [00:48<19:10,  1.17枚/s]"
     ]
    },
    {
     "name": "stdout",
     "output_type": "stream",
     "text": [
      "\n",
      "image 1/1 C:\\Users\\ykita\\FacePhoto_instance\\inference\\201-295\\image\\208-20170809-76-161454_04e2d7afefa163ecc6aaf5b69286fcc461a9e80ef611c43abe9be547b4643937.jpg: 640x640 3 Right_eyes, 1 Left_eye, 854.6ms\n",
      "Speed: 6.0ms preprocess, 854.6ms inference, 0.0ms postprocess per image at shape (1, 3, 640, 640)\n"
     ]
    },
    {
     "name": "stderr",
     "output_type": "stream",
     "text": [
      "推論中:   4%|▎         | 50/1390 [00:49<19:35,  1.14枚/s]"
     ]
    },
    {
     "name": "stdout",
     "output_type": "stream",
     "text": [
      "\n",
      "image 1/1 C:\\Users\\ykita\\FacePhoto_instance\\inference\\201-295\\image\\208-20170809-76-161454_05f1a832521617358c4304dee5bf0d4a31616ed87cb22e00bb5963542f595246.jpg: 640x640 1 Right_eye, 1 Left_eye, 780.5ms\n",
      "Speed: 30.0ms preprocess, 780.5ms inference, 0.0ms postprocess per image at shape (1, 3, 640, 640)\n"
     ]
    },
    {
     "name": "stderr",
     "output_type": "stream",
     "text": [
      "推論中:   4%|▎         | 51/1390 [00:50<19:35,  1.14枚/s]"
     ]
    },
    {
     "name": "stdout",
     "output_type": "stream",
     "text": [
      "\n",
      "image 1/1 C:\\Users\\ykita\\FacePhoto_instance\\inference\\201-295\\image\\208-20170809-76-161454_1e59db913b23521d22ce7cfe52fd963bddb4730cca9f4ffacdb73bf1a41fd5c2.jpg: 640x640 2 Left_eyes, 742.0ms\n",
      "Speed: 9.0ms preprocess, 742.0ms inference, 0.0ms postprocess per image at shape (1, 3, 640, 640)\n"
     ]
    },
    {
     "name": "stderr",
     "output_type": "stream",
     "text": [
      "推論中:   4%|▎         | 52/1390 [00:50<19:07,  1.17枚/s]"
     ]
    },
    {
     "name": "stdout",
     "output_type": "stream",
     "text": [
      "\n",
      "image 1/1 C:\\Users\\ykita\\FacePhoto_instance\\inference\\201-295\\image\\208-20170809-76-161454_2b11502e29472312e45862853b35ff1070196353921d1ac433ed9e163bc8691d.jpg: 640x640 1 Right_eye, 1 Left_eye, 696.8ms\n",
      "Speed: 9.0ms preprocess, 696.8ms inference, 0.0ms postprocess per image at shape (1, 3, 640, 640)\n"
     ]
    },
    {
     "name": "stderr",
     "output_type": "stream",
     "text": [
      "推論中:   4%|▍         | 53/1390 [00:51<18:34,  1.20枚/s]"
     ]
    },
    {
     "name": "stdout",
     "output_type": "stream",
     "text": [
      "\n",
      "image 1/1 C:\\Users\\ykita\\FacePhoto_instance\\inference\\201-295\\image\\208-20170809-76-161454_3eb5d82e7293bcab7f73c5be986e30620ee8ec79d459ec61f5e06fab14533ff7.jpg: 640x640 1 Right_eye, 1 Left_eye, 715.0ms\n",
      "Speed: 6.0ms preprocess, 715.0ms inference, 0.0ms postprocess per image at shape (1, 3, 640, 640)\n"
     ]
    },
    {
     "name": "stderr",
     "output_type": "stream",
     "text": [
      "推論中:   4%|▍         | 54/1390 [00:52<18:08,  1.23枚/s]"
     ]
    },
    {
     "name": "stdout",
     "output_type": "stream",
     "text": [
      "\n",
      "image 1/1 C:\\Users\\ykita\\FacePhoto_instance\\inference\\201-295\\image\\208-20170809-76-161454_5c8e3b695f7184965b8d580c0452588beddbf080d6d80c08ab3ed3e3e087e1ea.jpg: 640x640 3 Right_eyes, 1 Left_eye, 675.7ms\n",
      "Speed: 5.0ms preprocess, 675.7ms inference, 1.0ms postprocess per image at shape (1, 3, 640, 640)\n"
     ]
    },
    {
     "name": "stderr",
     "output_type": "stream",
     "text": [
      "推論中:   4%|▍         | 55/1390 [00:53<17:39,  1.26枚/s]"
     ]
    },
    {
     "name": "stdout",
     "output_type": "stream",
     "text": [
      "\n",
      "image 1/1 C:\\Users\\ykita\\FacePhoto_instance\\inference\\201-295\\image\\208-20170809-76-161454_74b098cf225e39691f32614ebeb18d62656852105bf0260b26fe4c436bf8ecb7.jpg: 640x640 2 Left_eyes, 654.0ms\n",
      "Speed: 6.0ms preprocess, 654.0ms inference, 0.0ms postprocess per image at shape (1, 3, 640, 640)\n"
     ]
    },
    {
     "name": "stderr",
     "output_type": "stream",
     "text": [
      "推論中:   4%|▍         | 56/1390 [00:53<17:10,  1.30枚/s]"
     ]
    },
    {
     "name": "stdout",
     "output_type": "stream",
     "text": [
      "\n",
      "image 1/1 C:\\Users\\ykita\\FacePhoto_instance\\inference\\201-295\\image\\208-20170809-76-161454_9804be9571f80504de5ae6e4a98a268885921a07fb1124682801fcdf4c066aae.jpg: 640x640 2 Left_eyes, 766.3ms\n",
      "Speed: 8.0ms preprocess, 766.3ms inference, 0.0ms postprocess per image at shape (1, 3, 640, 640)\n"
     ]
    },
    {
     "name": "stderr",
     "output_type": "stream",
     "text": [
      "推論中:   4%|▍         | 57/1390 [00:54<17:36,  1.26枚/s]"
     ]
    },
    {
     "name": "stdout",
     "output_type": "stream",
     "text": [
      "\n",
      "image 1/1 C:\\Users\\ykita\\FacePhoto_instance\\inference\\201-295\\image\\208-20170809-76-161454_d5de0e290f5b8f7ae0f92b51463bda63c8ec1aa3fbfeaa78216f5e4a42664495.jpg: 640x640 3 Left_eyes, 841.3ms\n",
      "Speed: 8.0ms preprocess, 841.3ms inference, 1.0ms postprocess per image at shape (1, 3, 640, 640)\n"
     ]
    },
    {
     "name": "stderr",
     "output_type": "stream",
     "text": [
      "推論中:   4%|▍         | 58/1390 [00:55<18:22,  1.21枚/s]"
     ]
    },
    {
     "name": "stdout",
     "output_type": "stream",
     "text": [
      "\n",
      "image 1/1 C:\\Users\\ykita\\FacePhoto_instance\\inference\\201-295\\image\\208-20170809-76-161454_e2b89c52bcfdca5daeec6065504dad0947d18c1038d03ddb71d43991af115368.jpg: 640x640 2 Left_eyes, 751.0ms\n",
      "Speed: 7.0ms preprocess, 751.0ms inference, 1.0ms postprocess per image at shape (1, 3, 640, 640)\n"
     ]
    },
    {
     "name": "stderr",
     "output_type": "stream",
     "text": [
      "推論中:   4%|▍         | 59/1390 [00:56<18:21,  1.21枚/s]"
     ]
    },
    {
     "name": "stdout",
     "output_type": "stream",
     "text": [
      "\n"
     ]
    }
   ],
   "source": [
    "import os\n",
    "import glob\n",
    "from ultralytics import RTDETR\n",
    "from tqdm import tqdm  # tqdmライブラリをインポート\n",
    "\n",
    "# 1) 画像のフォルダを指定する\n",
    "orig_image_dir = r\"C:\\Users\\ykita\\FacePhoto_instance\\inference\\201-295\\image\"\n",
    "# 2) 出力先のフォルダを指定する。フォルダがなければ作成する\n",
    "dst_label_dir = r\"C:\\Users\\ykita\\FacePhoto_instance\\inference\\201-295\\archive\\labels\"\n",
    "os.makedirs(dst_label_dir, exist_ok=True)\n",
    "\n",
    "# モデルが未定義ならロードする\n",
    "try:\n",
    "    model  # 変数modelが定義されているか確認\n",
    "except NameError:\n",
    "    print(\"modelが未定義のため、ロードを実行します。\")\n",
    "    model_path = r\"C:\\Users\\ykita\\FacePhoto_instance\\models\\135best_rtdetr.pt\"\n",
    "    model = RTDETR(model_path)\n",
    "\n",
    "# 処理対象とする画像の拡張子\n",
    "image_extensions = [\n",
    "    '.jpg', '.jpeg', '.JPG', '.JPEG',\n",
    "    '.png', '.PNG',\n",
    "    '.tif', '.tiff', '.TIF', '.TIFF'\n",
    "]\n",
    "\n",
    "# 指定フォルダ配下の該当画像ファイルをすべて取得\n",
    "image_files = []\n",
    "for ext in image_extensions:\n",
    "    image_files.extend(glob.glob(os.path.join(orig_image_dir, f'*{ext}')))\n",
    "\n",
    "# tqdmで進捗状況を表示しながらループ\n",
    "for image_path in tqdm(image_files, desc='推論中', unit='枚'):\n",
    "    # 推論を実行\n",
    "    results = model(image_path, save=False)\n",
    "\n",
    "    # 画像と同じファイル名（拡張子を除く）でテキストファイル出力\n",
    "    basename = os.path.splitext(os.path.basename(image_path))[0]\n",
    "    save_txt_path = os.path.join(dst_label_dir, \"train\", f\"{basename}.txt\")\n",
    "\n",
    "    # YOLO形式の推論結果をテキストファイルに書き込み\n",
    "    with open(save_txt_path, 'w', encoding='utf-8') as f:\n",
    "        for r in results:\n",
    "            boxes = r.boxes  # YOLOv8系の出力\n",
    "            for box in boxes:\n",
    "                cls_id = int(box.cls[0])\n",
    "                x_center, y_center, width, height = box.xywhn[0]\n",
    "                # YOLO形式: class x_center y_center width height（小数点以下6桁）\n",
    "                line = f\"{cls_id} {x_center:.6f} {y_center:.6f} {width:.6f} {height:.6f}\\n\"\n",
    "                f.write(line)\n",
    "\n",
    "print(\"すべての画像に対する推論が完了し、YOLO形式でラベルを出力しました。\")\n"
   ]
  },
  {
   "cell_type": "markdown",
   "metadata": {},
   "source": [
    "## **CVAT仕様のフォルダ構成に**"
   ]
  },
  {
   "cell_type": "code",
   "execution_count": 13,
   "metadata": {},
   "outputs": [
    {
     "name": "stdout",
     "output_type": "stream",
     "text": [
      "data.yaml と img_list.txt が、labelsフォルダと同じ階層に作成されました。\n"
     ]
    }
   ],
   "source": [
    "import os\n",
    "import glob\n",
    "\n",
    "# 現在のlabelsフォルダのパス\n",
    "dst_label_dir = r\"C:\\Users\\ykita\\FacePhoto_instance\\inference\\201-295\\cvat\\labels\"\n",
    "\n",
    "# yamlとimg_listのパスを定義\n",
    "data_yaml_path = os.path.join(dst_label_dir, \"..\", \"data.yaml\")\n",
    "img_list_path = os.path.join(dst_label_dir, \"..\", \"tain.txt\")\n",
    "\n",
    "# data.yaml を書き込み\n",
    "with open(data_yaml_path, 'w', encoding='utf-8') as f:\n",
    "    f.write(\"names:\\n\")\n",
    "    f.write(\"  0: Right_eye\\n\")\n",
    "    f.write(\"  1: Left_eye\\n\")\n",
    "    f.write(\"path: .\\n\")\n",
    "    f.write(\"train: train.txt\\n\")\n",
    "\n",
    "# labels_dir配下の .txt ファイルから、img_list.txt を作成\n",
    "txt_files = glob.glob(os.path.join(dst_label_dir, \"*.txt\"))\n",
    "\n",
    "with open(img_list_path, 'w', encoding='utf-8') as f:\n",
    "    for txt_file in txt_files:\n",
    "        basename = os.path.splitext(os.path.basename(txt_file))[0]\n",
    "        f.write(f\"data/images/train/{basename}.jpg\\n\")\n",
    "\n",
    "print(\"data.yaml と img_list.txt が、labelsフォルダと同じ階層に作成されました。\")"
   ]
  },
  {
   "cell_type": "markdown",
   "metadata": {},
   "source": []
  }
 ],
 "metadata": {
  "kernelspec": {
   "display_name": "Python 3",
   "language": "python",
   "name": "python3"
  },
  "language_info": {
   "codemirror_mode": {
    "name": "ipython",
    "version": 3
   },
   "file_extension": ".py",
   "mimetype": "text/x-python",
   "name": "python",
   "nbconvert_exporter": "python",
   "pygments_lexer": "ipython3",
   "version": "3.8.6"
  }
 },
 "nbformat": 4,
 "nbformat_minor": 2
}
