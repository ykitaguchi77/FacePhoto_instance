{
 "cells": [
  {
   "cell_type": "code",
   "execution_count": 1,
   "metadata": {},
   "outputs": [
    {
     "name": "stdout",
     "output_type": "stream",
     "text": [
      "CUDA is available! GPU: Quadro RTX 5000\n"
     ]
    }
   ],
   "source": [
    "import torch\n",
    "\n",
    "# CUDAが使えるかどうかを確認\n",
    "cuda_available = torch.cuda.is_available()\n",
    "\n",
    "if cuda_available:\n",
    "    print(f\"CUDA is available! GPU: {torch.cuda.get_device_name(0)}\")\n",
    "else:\n",
    "    print(\"CUDA is not available.\")\n",
    "     "
   ]
  },
  {
   "cell_type": "markdown",
   "metadata": {},
   "source": [
    "# **1枚画像**"
   ]
  },
  {
   "cell_type": "code",
   "execution_count": 1,
   "metadata": {},
   "outputs": [
    {
     "name": "stdout",
     "output_type": "stream",
     "text": [
      "modelが未定義のため、ロードを実行します。\n"
     ]
    },
    {
     "name": "stderr",
     "output_type": "stream",
     "text": [
      "c:\\Users\\ykita\\FacePhoto_instance\\instanceenv\\lib\\site-packages\\ultralytics\\nn\\tasks.py:634: FutureWarning: You are using `torch.load` with `weights_only=False` (the current default value), which uses the default pickle module implicitly. It is possible to construct malicious pickle data which will execute arbitrary code during unpickling (See https://github.com/pytorch/pytorch/blob/main/SECURITY.md#untrusted-models for more details). In a future release, the default value for `weights_only` will be flipped to `True`. This limits the functions that could be executed during unpickling. Arbitrary objects will no longer be allowed to be loaded via this mode unless they are explicitly allowlisted by the user via `torch.serialization.add_safe_globals`. We recommend you start setting `weights_only=True` for any use case where you don't have full control of the loaded file. Please open an issue on GitHub for any issues related to this experimental feature.\n",
      "  return torch.load(file, map_location=\"cpu\"), file  # load\n"
     ]
    },
    {
     "name": "stdout",
     "output_type": "stream",
     "text": [
      "\n",
      "image 1/1 C:\\Users\\ykita\\FacePhoto_instance\\201-295\\Image\\293-20200311-6-095803_287b73c1d0b04ca725de2651547efd9a530231320625fb361bef3708dc3df9ee.jpg: 640x640 1 Right_eye, 1 Left_eye, 771.0ms\n",
      "Speed: 9.3ms preprocess, 771.0ms inference, 0.5ms postprocess per image at shape (1, 3, 640, 640)\n",
      "0 0.268958 0.487141 0.170173 0.112953\n",
      "1 0.687053 0.477957 0.160687 0.102739\n"
     ]
    }
   ],
   "source": [
    "from ultralytics import RTDETR\n",
    "import wget\n",
    "import cv2\n",
    "import matplotlib.pyplot as plt\n",
    "\n",
    "# モデルが未定義ならロードする\n",
    "try:\n",
    "    model  # 変数modelが定義されているか確認\n",
    "except NameError:\n",
    "    print(\"modelが未定義のため、ロードを実行します。\")\n",
    "    model = RTDETR(r\"C:\\Users\\ykita\\FacePhoto_instance\\models\\135best_rtdetr.pt\")\n",
    "\n",
    "# 推論を実行: YOLOの推論\n",
    "image_path = r'C:\\Users\\ykita\\FacePhoto_instance\\201-295\\Image\\293-20200311-6-095803_287b73c1d0b04ca725de2651547efd9a530231320625fb361bef3708dc3df9ee.jpg'\n",
    "results = model(image_path, save=False)\n",
    "\n",
    "for r in results:\n",
    "    boxes = r.boxes  # YOLOv8の場合\n",
    "\n",
    "    # YOLO形式出力\n",
    "    for box in boxes:\n",
    "        cls_id = int(box.cls[0])  # クラスID\n",
    "        x_center, y_center, width, height = box.xywhn[0]\n",
    "\n",
    "        # YOLO形式: class x_center y_center width height\n",
    "        # 小数点以下6桁で出力したい場合\n",
    "        print(f\"{cls_id} {x_center:.6f} {y_center:.6f} {width:.6f} {height:.6f}\")\n",
    "\n",
    "    # 検出結果を画像に描画して表示\n",
    "    # plt.figure(figsize=(12, 8))\n",
    "    # plt.imshow(cv2.cvtColor(r.plot(), cv2.COLOR_BGR2RGB))\n",
    "    # plt.axis('off')\n",
    "    # plt.show()\n",
    "\n",
    "    # 結果の保存\n",
    "    #cv2.imwrite('result.jpg', r.plot())"
   ]
  },
  {
   "cell_type": "code",
   "execution_count": 2,
   "metadata": {},
   "outputs": [
    {
     "name": "stdout",
     "output_type": "stream",
     "text": [
      "\n",
      "image 1/1 C:\\Users\\ykita\\FacePhoto_instance\\201-295\\Image\\293-20200311-6-095803_287b73c1d0b04ca725de2651547efd9a530231320625fb361bef3708dc3df9ee.jpg: 640x640 1 Right_eye, 1 Left_eye, 879.9ms\n",
      "Speed: 7.0ms preprocess, 879.9ms inference, 0.5ms postprocess per image at shape (1, 3, 640, 640)\n",
      "YOLO形式の推論結果をテキストファイルに保存しました: C:\\Users\\ykita\\FacePhoto_instance\\result_yolo.txt\n"
     ]
    }
   ],
   "source": [
    "from ultralytics import RTDETR\n",
    "import wget\n",
    "import cv2\n",
    "import matplotlib.pyplot as plt\n",
    "import os\n",
    "\n",
    "# モデルが未定義ならロードする\n",
    "try:\n",
    "    model  # 変数modelが定義されているか確認\n",
    "except NameError:\n",
    "    print(\"modelが未定義のため、ロードを実行します。\")\n",
    "    model_path = r\"C:\\Users\\ykita\\FacePhoto_instance\\models\\135best_rtdetr.pt\"\n",
    "    model = RTDETR(model_path)\n",
    "\n",
    "# 推論を実行\n",
    "image_path = r'C:\\Users\\ykita\\FacePhoto_instance\\201-295\\Image\\293-20200311-6-095803_287b73c1d0b04ca725de2651547efd9a530231320625fb361bef3708dc3df9ee.jpg'\n",
    "results = model(image_path, save=False)\n",
    "\n",
    "# 保存先のテキストファイルパスを指定\n",
    "save_txt_path = r'C:\\Users\\ykita\\FacePhoto_instance\\result_yolo.txt'\n",
    "\n",
    "# YOLO形式の推論結果をテキストファイルに書き込み\n",
    "with open(save_txt_path, 'w') as f:\n",
    "    for r in results:\n",
    "        boxes = r.boxes  # YOLOv8系の出力\n",
    "        for box in boxes:\n",
    "            cls_id = int(box.cls[0])  \n",
    "            x_center, y_center, width, height = box.xywhn[0]\n",
    "            # YOLO形式: class x_center y_center width height （小数点以下6桁）\n",
    "            line = f\"{cls_id} {x_center:.6f} {y_center:.6f} {width:.6f} {height:.6f}\\n\"\n",
    "            f.write(line)\n",
    "\n",
    "print(f\"YOLO形式の推論結果をテキストファイルに保存しました: {save_txt_path}\")\n"
   ]
  },
  {
   "cell_type": "code",
   "execution_count": null,
   "metadata": {},
   "outputs": [],
   "source": []
  },
  {
   "cell_type": "markdown",
   "metadata": {},
   "source": [
    "# **複数画像**\n",
    "\n",
    "階層構造\n",
    "```\n",
    ".cvat\n",
    "├── labels/ \n",
    "├── data.yaml\n",
    "├── img_list.txt\n",
    "└── ReadMe.txt\n",
    "```\n",
    "\n",
    "***.txt (ラベル)\n",
    "```\n",
    "0 0.260745 0.535950 0.218015 0.030600\n",
    "1 0.760795 0.533850 0.213035 0.043800\n",
    "```\n",
    "\n",
    "daya.yaml\n",
    "```\n",
    "names:\n",
    "  0: Right_eye\n",
    "  1: Left_eye\n",
    "path: .\n",
    "train: train.txt\n",
    "```\n",
    "\n",
    "img_list.txt\n",
    "```\n",
    "data/images/train/***.jpg\n",
    "data/images/train/***.jpg\n",
    "...(pathの羅列)\n",
    "```\n",
    "※ラベルや画像と対応を合わせること\n",
    "\n"
   ]
  },
  {
   "cell_type": "code",
   "execution_count": null,
   "metadata": {},
   "outputs": [],
   "source": [
    "import os\n",
    "import glob\n",
    "from ultralytics import RTDETR\n",
    "from tqdm import tqdm  # tqdmライブラリをインポート\n",
    "\n",
    "# 1) 画像のフォルダを指定する\n",
    "orig_image_dir = r\"C:\\Users\\ykita\\FacePhoto_instance\\inference\\201-295\\image\"\n",
    "# 2) 出力先のフォルダを指定する。フォルダがなければ作成する\n",
    "dst_label_dir = r\"C:\\Users\\ykita\\FacePhoto_instance\\inference\\201-295\\cvat\\labels\"\n",
    "os.makedirs(dst_label_dir, exist_ok=True)\n",
    "\n",
    "# モデルが未定義ならロードする\n",
    "try:\n",
    "    model  # 変数modelが定義されているか確認\n",
    "except NameError:\n",
    "    print(\"modelが未定義のため、ロードを実行します。\")\n",
    "    model_path = r\"C:\\Users\\ykita\\FacePhoto_instance\\models\\135best_rtdetr.pt\"\n",
    "    model = RTDETR(model_path)\n",
    "\n",
    "# 処理対象とする画像の拡張子\n",
    "image_extensions = [\n",
    "    '.jpg', '.jpeg', '.JPG', '.JPEG',\n",
    "    '.png', '.PNG',\n",
    "    '.tif', '.tiff', '.TIF', '.TIFF'\n",
    "]\n",
    "\n",
    "# 指定フォルダ配下の該当画像ファイルをすべて取得\n",
    "image_files = []\n",
    "for ext in image_extensions:\n",
    "    image_files.extend(glob.glob(os.path.join(orig_image_dir, f'*{ext}')))\n",
    "\n",
    "# tqdmで進捗状況を表示しながらループ\n",
    "for image_path in tqdm(image_files, desc='推論中', unit='枚'):\n",
    "    # 推論を実行\n",
    "    results = model(image_path, save=False)\n",
    "\n",
    "    # 画像と同じファイル名（拡張子を除く）でテキストファイル出力\n",
    "    basename = os.path.splitext(os.path.basename(image_path))[0]\n",
    "    save_txt_path = os.path.join(dst_label_dir, f\"{basename}.txt\")\n",
    "\n",
    "    # YOLO形式の推論結果をテキストファイルに書き込み\n",
    "    with open(save_txt_path, 'w', encoding='utf-8') as f:\n",
    "        for r in results:\n",
    "            boxes = r.boxes  # YOLOv8系の出力\n",
    "            for box in boxes:\n",
    "                cls_id = int(box.cls[0])\n",
    "                x_center, y_center, width, height = box.xywhn[0]\n",
    "                # YOLO形式: class x_center y_center width height（小数点以下6桁）\n",
    "                line = f\"{cls_id} {x_center:.6f} {y_center:.6f} {width:.6f} {height:.6f}\\n\"\n",
    "                f.write(line)\n",
    "\n",
    "print(\"すべての画像に対する推論が完了し、YOLO形式でラベルを出力しました。\")\n"
   ]
  },
  {
   "cell_type": "markdown",
   "metadata": {},
   "source": [
    "## **CVAT仕様のフォルダ構成に**"
   ]
  },
  {
   "cell_type": "code",
   "execution_count": 13,
   "metadata": {},
   "outputs": [
    {
     "name": "stdout",
     "output_type": "stream",
     "text": [
      "data.yaml と img_list.txt が、labelsフォルダと同じ階層に作成されました。\n"
     ]
    }
   ],
   "source": [
    "import os\n",
    "import glob\n",
    "\n",
    "# 現在のlabelsフォルダのパス\n",
    "dst_label_dir = r\"C:\\Users\\ykita\\FacePhoto_instance\\inference\\201-295\\cvat\\labels\"\n",
    "\n",
    "# yamlとimg_listのパスを定義\n",
    "data_yaml_path = os.path.join(dst_label_dir, \"..\", \"data.yaml\")\n",
    "img_list_path = os.path.join(dst_label_dir, \"..\", \"img_list.txt\")\n",
    "\n",
    "# data.yaml を書き込み\n",
    "with open(data_yaml_path, 'w', encoding='utf-8') as f:\n",
    "    f.write(\"names:\\n\")\n",
    "    f.write(\"  0: Right_eye\\n\")\n",
    "    f.write(\"  1: Left_eye\\n\")\n",
    "    f.write(\"path: .\\n\")\n",
    "    f.write(\"train: train.txt\\n\")\n",
    "\n",
    "# labels_dir配下の .txt ファイルから、img_list.txt を作成\n",
    "txt_files = glob.glob(os.path.join(dst_label_dir, \"*.txt\"))\n",
    "\n",
    "with open(img_list_path, 'w', encoding='utf-8') as f:\n",
    "    for txt_file in txt_files:\n",
    "        basename = os.path.splitext(os.path.basename(txt_file))[0]\n",
    "        f.write(f\"data/images/train/{basename}.jpg\\n\")\n",
    "\n",
    "print(\"data.yaml と img_list.txt が、labelsフォルダと同じ階層に作成されました。\")"
   ]
  },
  {
   "cell_type": "markdown",
   "metadata": {},
   "source": []
  }
 ],
 "metadata": {
  "kernelspec": {
   "display_name": "Python 3",
   "language": "python",
   "name": "python3"
  },
  "language_info": {
   "codemirror_mode": {
    "name": "ipython",
    "version": 3
   },
   "file_extension": ".py",
   "mimetype": "text/x-python",
   "name": "python",
   "nbconvert_exporter": "python",
   "pygments_lexer": "ipython3",
   "version": "3.8.6"
  }
 },
 "nbformat": 4,
 "nbformat_minor": 2
}
